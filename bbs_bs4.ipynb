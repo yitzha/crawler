{
 "cells": [
  {
   "cell_type": "code",
   "execution_count": 1,
   "metadata": {},
   "outputs": [],
   "source": [
    "from bs4 import BeautifulSoup"
   ]
  },
  {
   "cell_type": "code",
   "execution_count": 2,
   "metadata": {},
   "outputs": [],
   "source": [
    "import requests"
   ]
  },
  {
   "cell_type": "code",
   "execution_count": 11,
   "metadata": {},
   "outputs": [
    {
     "data": {
      "text/plain": [
       "'<!DOCTYPE html>\\n<html>\\n\\t<head>\\n\\t\\t<meta charset=\"utf-8\">\\n\\t\\t\\n\\n<meta name=\"viewport\" content=\"width=device-width, initial-scale=1\">\\n\\n<title>看板 C_Chat 文章列表 - 批踢踢實業坊</title>\\n\\n<link rel=\"stylesheet\" type=\"text/css\" href=\"//images.ptt.cc/bbs/v2.27/bbs-common.css\">\\n<link rel=\"stylesheet\" type=\"text/css\" href=\"//images.ptt.cc/bbs/v2.27/bbs-base.css\" media=\"screen\">\\n<link rel=\"stylesheet\" type=\"text/css\" href=\"//images.ptt.cc/bbs/v2.27/bbs-custom.css\">\\n<link rel=\"stylesheet\" type=\"text/css\" href=\"//images.ptt.cc/bbs/v2.27/pushstream.css\" media=\"screen\">\\n<link rel=\"stylesheet\" type=\"text/css\" href=\"//images.ptt.cc/bbs/v2.27/bbs-print.css\" media=\"print\">\\n\\n\\n\\n\\n\\t</head>\\n    <body>\\n\\t\\t\\n<div id=\"topbar-container\">\\n\\t<div id=\"topbar\" class=\"bbs-content\">\\n\\t\\t<a id=\"logo\" href=\"/bbs/\">批踢踢實業坊</a>\\n\\t\\t<span>&rsaquo;</span>\\n\\t\\t<a class=\"board\" href=\"/bbs/C_Chat/index.html\"><span class=\"board-label\">看板 </span>C_Chat</a>\\n\\t\\t<a class=\"right small\" href=\"/about.html\">關於我們</a>\\n\\t\\t<a class=\"right small\" href=\"/contact.html\">聯絡資訊</a>\\n\\t</div>\\n</div>\\n\\n<div id=\"main-container\">\\n\\t<div id=\"action-bar-container\">\\n\\t\\t<div class=\"action-bar\">\\n\\t\\t\\t<div class=\"btn-group btn-group-dir\">\\n\\t\\t\\t\\t<a class=\"btn selected\" href=\"/bbs/C_Chat/index.html\">看板</a>\\n\\t\\t\\t\\t<a class=\"btn\" href=\"/man/C_Chat/index.html\">精華區</a>\\n\\t\\t\\t</div>\\n\\t\\t\\t<div class=\"btn-group btn-group-paging\">\\n\\t\\t\\t\\t<a class=\"btn wide\" href=\"/bbs/C_Chat/index1.html\">最舊</a>\\n\\t\\t\\t\\t<a class=\"btn wide\" href=\"/bbs/C_Chat/index17542.html\">&lsaquo; 上頁</a>\\n\\t\\t\\t\\t<a class=\"btn wide disabled\">下頁 &rsaquo;</a>\\n\\t\\t\\t\\t<a class=\"btn wide\" href=\"/bbs/C_Chat/index.html\">最新</a>\\n\\t\\t\\t</div>\\n\\t\\t</div>\\n\\t</div>\\n\\n\\t<div class=\"r-list-container action-bar-margin bbs-screen\">\\n\\t\\t<div class=\"search-bar\">\\n\\t\\t\\t<form type=\"get\" action=\"search\" id=\"search-bar\">\\n\\t\\t\\t\\t<input class=\"query\" type=\"text\" name=\"q\" value=\"\" placeholder=\"搜尋文章&#x22ef;\">\\n\\t\\t\\t</form>\\n\\t\\t</div>\\n\\n\\t\\t\\n\\t\\t\\n            \\n        \\n        \\n\\t\\t<div class=\"r-ent\">\\n\\t\\t\\t<div class=\"nrec\"></div>\\n\\t\\t\\t<div class=\"title\">\\n\\t\\t\\t\\n\\t\\t\\t\\t<a href=\"/bbs/C_Chat/M.1581409275.A.CAD.html\">Re: [寶可夢] 不要玩食物QQ</a>\\n\\t\\t\\t\\n\\t\\t\\t</div>\\n\\t\\t\\t<div class=\"meta\">\\n\\t\\t\\t\\t<div class=\"author\">makinoyui</div>\\n\\t\\t\\t\\t<div class=\"article-menu\">\\n\\t\\t\\t\\t\\t\\n\\t\\t\\t\\t\\t<div class=\"trigger\">&#x22ef;</div>\\n\\t\\t\\t\\t\\t<div class=\"dropdown\">\\n\\t\\t\\t\\t\\t\\t<div class=\"item\"><a href=\"/bbs/C_Chat/search?q=thread%3A%5B%E5%AF%B6%E5%8F%AF%E5%A4%A2%5D&#43;%E4%B8%8D%E8%A6%81%E7%8E%A9%E9%A3%9F%E7%89%A9QQ\">搜尋同標題文章</a></div>\\n\\t\\t\\t\\t\\t\\t\\n\\t\\t\\t\\t\\t\\t<div class=\"item\"><a href=\"/bbs/C_Chat/search?q=author%3Amakinoyui\">搜尋看板內 makinoyui 的文章</a></div>\\n\\t\\t\\t\\t\\t\\t\\n\\t\\t\\t\\t\\t</div>\\n\\t\\t\\t\\t\\t\\n\\t\\t\\t\\t</div>\\n\\t\\t\\t\\t<div class=\"date\"> 2/11</div>\\n\\t\\t\\t\\t<div class=\"mark\"></div>\\n\\t\\t\\t</div>\\n\\t\\t</div>\\n\\n\\t\\t\\n            \\n        \\n        \\n\\t\\t<div class=\"r-ent\">\\n\\t\\t\\t<div class=\"nrec\"><span class=\"hl f2\">2</span></div>\\n\\t\\t\\t<div class=\"title\">\\n\\t\\t\\t\\n\\t\\t\\t\\t<a href=\"/bbs/C_Chat/M.1581409294.A.40F.html\">Re: [閒聊] 美國隊長 單獨面對薩諾斯大軍時在想啥？</a>\\n\\t\\t\\t\\n\\t\\t\\t</div>\\n\\t\\t\\t<div class=\"meta\">\\n\\t\\t\\t\\t<div class=\"author\">zxcz1471</div>\\n\\t\\t\\t\\t<div class=\"article-menu\">\\n\\t\\t\\t\\t\\t\\n\\t\\t\\t\\t\\t<div class=\"trigger\">&#x22ef;</div>\\n\\t\\t\\t\\t\\t<div class=\"dropdown\">\\n\\t\\t\\t\\t\\t\\t<div class=\"item\"><a href=\"/bbs/C_Chat/search?q=thread%3A%5B%E9%96%92%E8%81%8A%5D&#43;%E7%BE%8E%E5%9C%8B%E9%9A%8A%E9%95%B7&#43;%E5%96%AE%E7%8D%A8%E9%9D%A2%E5%B0%8D%E8%96%A9%E8%AB%BE%E6%96%AF%E5%A4%A7%E8%BB%8D%E6%99%82%E5%9C%A8%E6%83%B3%E5%95%A5%EF%BC%9F\">搜尋同標題文章</a></div>\\n\\t\\t\\t\\t\\t\\t\\n\\t\\t\\t\\t\\t\\t<div class=\"item\"><a href=\"/bbs/C_Chat/search?q=author%3Azxcz1471\">搜尋看板內 zxcz1471 的文章</a></div>\\n\\t\\t\\t\\t\\t\\t\\n\\t\\t\\t\\t\\t</div>\\n\\t\\t\\t\\t\\t\\n\\t\\t\\t\\t</div>\\n\\t\\t\\t\\t<div class=\"date\"> 2/11</div>\\n\\t\\t\\t\\t<div class=\"mark\"></div>\\n\\t\\t\\t</div>\\n\\t\\t</div>\\n\\n\\t\\t\\n            \\n        \\n        \\n\\t\\t<div class=\"r-ent\">\\n\\t\\t\\t<div class=\"nrec\"><span class=\"hl f2\">2</span></div>\\n\\t\\t\\t<div class=\"title\">\\n\\t\\t\\t\\n\\t\\t\\t\\t<a href=\"/bbs/C_Chat/M.1581410098.A.766.html\">Re: [閒聊] JOJO原畫展in 長崎&amp;金澤</a>\\n\\t\\t\\t\\n\\t\\t\\t</div>\\n\\t\\t\\t<div class=\"meta\">\\n\\t\\t\\t\\t<div class=\"author\">joshua0606</div>\\n\\t\\t\\t\\t<div class=\"article-menu\">\\n\\t\\t\\t\\t\\t\\n\\t\\t\\t\\t\\t<div class=\"trigger\">&#x22ef;</div>\\n\\t\\t\\t\\t\\t<div class=\"dropdown\">\\n\\t\\t\\t\\t\\t\\t<div class=\"item\"><a href=\"/bbs/C_Chat/search?q=thread%3A%5B%E9%96%92%E8%81%8A%5D&#43;JOJO%E5%8E%9F%E7%95%AB%E5%B1%95in&#43;%E9%95%B7%E5%B4%8E%26%E9%87%91%E6%BE%A4\">搜尋同標題文章</a></div>\\n\\t\\t\\t\\t\\t\\t\\n\\t\\t\\t\\t\\t\\t<div class=\"item\"><a href=\"/bbs/C_Chat/search?q=author%3Ajoshua0606\">搜尋看板內 joshua0606 的文章</a></div>\\n\\t\\t\\t\\t\\t\\t\\n\\t\\t\\t\\t\\t</div>\\n\\t\\t\\t\\t\\t\\n\\t\\t\\t\\t</div>\\n\\t\\t\\t\\t<div class=\"date\"> 2/11</div>\\n\\t\\t\\t\\t<div class=\"mark\"></div>\\n\\t\\t\\t</div>\\n\\t\\t</div>\\n\\n\\t\\t\\n            \\n        \\n        \\n\\t\\t<div class=\"r-ent\">\\n\\t\\t\\t<div class=\"nrec\"><span class=\"hl f2\">8</span></div>\\n\\t\\t\\t<div class=\"title\">\\n\\t\\t\\t\\n\\t\\t\\t\\t<a href=\"/bbs/C_Chat/M.1581410105.A.11D.html\">[閒聊] 魯路修的三部劇場版跟tv有差嗎？</a>\\n\\t\\t\\t\\n\\t\\t\\t</div>\\n\\t\\t\\t<div class=\"meta\">\\n\\t\\t\\t\\t<div class=\"author\">a125g</div>\\n\\t\\t\\t\\t<div class=\"article-menu\">\\n\\t\\t\\t\\t\\t\\n\\t\\t\\t\\t\\t<div class=\"trigger\">&#x22ef;</div>\\n\\t\\t\\t\\t\\t<div class=\"dropdown\">\\n\\t\\t\\t\\t\\t\\t<div class=\"item\"><a href=\"/bbs/C_Chat/search?q=thread%3A%5B%E9%96%92%E8%81%8A%5D&#43;%E9%AD%AF%E8%B7%AF%E4%BF%AE%E7%9A%84%E4%B8%89%E9%83%A8%E5%8A%87%E5%A0%B4%E7%89%88%E8%B7%9Ftv%E6%9C%89%E5%B7%AE%E5%97%8E%EF%BC%9F\">搜尋同標題文章</a></div>\\n\\t\\t\\t\\t\\t\\t\\n\\t\\t\\t\\t\\t\\t<div class=\"item\"><a href=\"/bbs/C_Chat/search?q=author%3Aa125g\">搜尋看板內 a125g 的文章</a></div>\\n\\t\\t\\t\\t\\t\\t\\n\\t\\t\\t\\t\\t</div>\\n\\t\\t\\t\\t\\t\\n\\t\\t\\t\\t</div>\\n\\t\\t\\t\\t<div class=\"date\"> 2/11</div>\\n\\t\\t\\t\\t<div class=\"mark\"></div>\\n\\t\\t\\t</div>\\n\\t\\t</div>\\n\\n\\t\\t\\n            \\n        \\n        \\n\\t\\t<div class=\"r-ent\">\\n\\t\\t\\t<div class=\"nrec\"><span class=\"hl f3\">12</span></div>\\n\\t\\t\\t<div class=\"title\">\\n\\t\\t\\t\\n\\t\\t\\t\\t<a href=\"/bbs/C_Chat/M.1581410271.A.9A2.html\">[閒聊] 我英如何評價? 回顧幾個作品的258話</a>\\n\\t\\t\\t\\n\\t\\t\\t</div>\\n\\t\\t\\t<div class=\"meta\">\\n\\t\\t\\t\\t<div class=\"author\">NukAnah</div>\\n\\t\\t\\t\\t<div class=\"article-menu\">\\n\\t\\t\\t\\t\\t\\n\\t\\t\\t\\t\\t<div class=\"trigger\">&#x22ef;</div>\\n\\t\\t\\t\\t\\t<div class=\"dropdown\">\\n\\t\\t\\t\\t\\t\\t<div class=\"item\"><a href=\"/bbs/C_Chat/search?q=thread%3A%5B%E9%96%92%E8%81%8A%5D&#43;%E6%88%91%E8%8B%B1%E5%A6%82%E4%BD%95%E8%A9%95%E5%83%B9%3F&#43;%E5%9B%9E%E9%A1%A7%E5%B9%BE%E5%80%8B%E4%BD%9C%E5%93%81%E7%9A%84258%E8%A9%B1\">搜尋同標題文章</a></div>\\n\\t\\t\\t\\t\\t\\t\\n\\t\\t\\t\\t\\t\\t<div class=\"item\"><a href=\"/bbs/C_Chat/search?q=author%3ANukAnah\">搜尋看板內 NukAnah 的文章</a></div>\\n\\t\\t\\t\\t\\t\\t\\n\\t\\t\\t\\t\\t</div>\\n\\t\\t\\t\\t\\t\\n\\t\\t\\t\\t</div>\\n\\t\\t\\t\\t<div class=\"date\"> 2/11</div>\\n\\t\\t\\t\\t<div class=\"mark\"></div>\\n\\t\\t\\t</div>\\n\\t\\t</div>\\n\\n\\t\\t\\n            \\n        \\n        \\n\\t\\t<div class=\"r-ent\">\\n\\t\\t\\t<div class=\"nrec\"><span class=\"hl f2\">2</span></div>\\n\\t\\t\\t<div class=\"title\">\\n\\t\\t\\t\\n\\t\\t\\t\\t<a href=\"/bbs/C_Chat/M.1581410620.A.8AE.html\">[20冬] 成群結伴!西頓學園  06 抖M熊貓</a>\\n\\t\\t\\t\\n\\t\\t\\t</div>\\n\\t\\t\\t<div class=\"meta\">\\n\\t\\t\\t\\t<div class=\"author\">lycs0908</div>\\n\\t\\t\\t\\t<div class=\"article-menu\">\\n\\t\\t\\t\\t\\t\\n\\t\\t\\t\\t\\t<div class=\"trigger\">&#x22ef;</div>\\n\\t\\t\\t\\t\\t<div class=\"dropdown\">\\n\\t\\t\\t\\t\\t\\t<div class=\"item\"><a href=\"/bbs/C_Chat/search?q=thread%3A%5B20%E5%86%AC%5D&#43;%E6%88%90%E7%BE%A4%E7%B5%90%E4%BC%B4%21%E8%A5%BF%E9%A0%93%E5%AD%B8%E5%9C%92&#43;&#43;06&#43;%E6%8A%96M%E7%86%8A%E8%B2%93\">搜尋同標題文章</a></div>\\n\\t\\t\\t\\t\\t\\t\\n\\t\\t\\t\\t\\t\\t<div class=\"item\"><a href=\"/bbs/C_Chat/search?q=author%3Alycs0908\">搜尋看板內 lycs0908 的文章</a></div>\\n\\t\\t\\t\\t\\t\\t\\n\\t\\t\\t\\t\\t</div>\\n\\t\\t\\t\\t\\t\\n\\t\\t\\t\\t</div>\\n\\t\\t\\t\\t<div class=\"date\"> 2/11</div>\\n\\t\\t\\t\\t<div class=\"mark\"></div>\\n\\t\\t\\t</div>\\n\\t\\t</div>\\n\\n\\t\\t\\n            \\n        \\n        \\n\\t\\t<div class=\"r-ent\">\\n\\t\\t\\t<div class=\"nrec\"><span class=\"hl f2\">1</span></div>\\n\\t\\t\\t<div class=\"title\">\\n\\t\\t\\t\\n\\t\\t\\t\\t<a href=\"/bbs/C_Chat/M.1581410881.A.410.html\">Fw: [光美] Healin&#39;Good♥プリキュア 02</a>\\n\\t\\t\\t\\n\\t\\t\\t</div>\\n\\t\\t\\t<div class=\"meta\">\\n\\t\\t\\t\\t<div class=\"author\">CureMarine</div>\\n\\t\\t\\t\\t<div class=\"article-menu\">\\n\\t\\t\\t\\t\\t\\n\\t\\t\\t\\t\\t<div class=\"trigger\">&#x22ef;</div>\\n\\t\\t\\t\\t\\t<div class=\"dropdown\">\\n\\t\\t\\t\\t\\t\\t<div class=\"item\"><a href=\"/bbs/C_Chat/search?q=thread%3A%5B%E5%85%89%E7%BE%8E%5D&#43;Healin%27Good%E2%99%A5%E3%83%97%E3%83%AA%E3%82%AD%E3%83%A5%E3%82%A2&#43;02\">搜尋同標題文章</a></div>\\n\\t\\t\\t\\t\\t\\t\\n\\t\\t\\t\\t\\t\\t<div class=\"item\"><a href=\"/bbs/C_Chat/search?q=author%3ACureMarine\">搜尋看板內 CureMarine 的文章</a></div>\\n\\t\\t\\t\\t\\t\\t\\n\\t\\t\\t\\t\\t</div>\\n\\t\\t\\t\\t\\t\\n\\t\\t\\t\\t</div>\\n\\t\\t\\t\\t<div class=\"date\"> 2/11</div>\\n\\t\\t\\t\\t<div class=\"mark\"></div>\\n\\t\\t\\t</div>\\n\\t\\t</div>\\n\\n\\t\\t\\n        \\n        <div class=\"r-list-sep\"></div>\\n            \\n                \\n        \\n        \\n\\t\\t<div class=\"r-ent\">\\n\\t\\t\\t<div class=\"nrec\"><span class=\"hl f3\">21</span></div>\\n\\t\\t\\t<div class=\"title\">\\n\\t\\t\\t\\n\\t\\t\\t\\t<a href=\"/bbs/C_Chat/M.1568395416.A.062.html\">[公告] C_Chat板板規v.16.3.0+板務建議+好文補M </a>\\n\\t\\t\\t\\n\\t\\t\\t</div>\\n\\t\\t\\t<div class=\"meta\">\\n\\t\\t\\t\\t<div class=\"author\">jschenlemn</div>\\n\\t\\t\\t\\t<div class=\"article-menu\">\\n\\t\\t\\t\\t\\t\\n\\t\\t\\t\\t\\t<div class=\"trigger\">&#x22ef;</div>\\n\\t\\t\\t\\t\\t<div class=\"dropdown\">\\n\\t\\t\\t\\t\\t\\t<div class=\"item\"><a href=\"/bbs/C_Chat/search?q=thread%3A%5B%E5%85%AC%E5%91%8A%5D&#43;C_Chat%E6%9D%BF%E6%9D%BF%E8%A6%8Fv.16.3.0%2B%E6%9D%BF%E5%8B%99%E5%BB%BA%E8%AD%B0%2B%E5%A5%BD%E6%96%87%E8%A3%9CM&#43;\">搜尋同標題文章</a></div>\\n\\t\\t\\t\\t\\t\\t\\n\\t\\t\\t\\t\\t\\t<div class=\"item\"><a href=\"/bbs/C_Chat/search?q=author%3Ajschenlemn\">搜尋看板內 jschenlemn 的文章</a></div>\\n\\t\\t\\t\\t\\t\\t\\n\\t\\t\\t\\t\\t</div>\\n\\t\\t\\t\\t\\t\\n\\t\\t\\t\\t</div>\\n\\t\\t\\t\\t<div class=\"date\"> 9/14</div>\\n\\t\\t\\t\\t<div class=\"mark\"></div>\\n\\t\\t\\t</div>\\n\\t\\t</div>\\n\\n            \\n                \\n        \\n        \\n\\t\\t<div class=\"r-ent\">\\n\\t\\t\\t<div class=\"nrec\"><span class=\"hl f1\">爆</span></div>\\n\\t\\t\\t<div class=\"title\">\\n\\t\\t\\t\\n\\t\\t\\t\\t<a href=\"/bbs/C_Chat/M.1576462934.A.38C.html\">[公告] 看板活動&amp; 臨時板規與公告彙整&amp; 閒聊區 </a>\\n\\t\\t\\t\\n\\t\\t\\t</div>\\n\\t\\t\\t<div class=\"meta\">\\n\\t\\t\\t\\t<div class=\"author\">jschenlemn</div>\\n\\t\\t\\t\\t<div class=\"article-menu\">\\n\\t\\t\\t\\t\\t\\n\\t\\t\\t\\t\\t<div class=\"trigger\">&#x22ef;</div>\\n\\t\\t\\t\\t\\t<div class=\"dropdown\">\\n\\t\\t\\t\\t\\t\\t<div class=\"item\"><a href=\"/bbs/C_Chat/search?q=thread%3A%5B%E5%85%AC%E5%91%8A%5D&#43;%E7%9C%8B%E6%9D%BF%E6%B4%BB%E5%8B%95%26&#43;%E8%87%A8%E6%99%82%E6%9D%BF%E8%A6%8F%E8%88%87%E5%85%AC%E5%91%8A%E5%BD%99%E6%95%B4%26&#43;%E9%96%92%E8%81%8A%E5%8D%80&#43;\">搜尋同標題文章</a></div>\\n\\t\\t\\t\\t\\t\\t\\n\\t\\t\\t\\t\\t\\t<div class=\"item\"><a href=\"/bbs/C_Chat/search?q=author%3Ajschenlemn\">搜尋看板內 jschenlemn 的文章</a></div>\\n\\t\\t\\t\\t\\t\\t\\n\\t\\t\\t\\t\\t</div>\\n\\t\\t\\t\\t\\t\\n\\t\\t\\t\\t</div>\\n\\t\\t\\t\\t<div class=\"date\">12/16</div>\\n\\t\\t\\t\\t<div class=\"mark\">M</div>\\n\\t\\t\\t</div>\\n\\t\\t</div>\\n\\n            \\n                \\n        \\n        \\n\\t\\t<div class=\"r-ent\">\\n\\t\\t\\t<div class=\"nrec\"><span class=\"hl f3\">14</span></div>\\n\\t\\t\\t<div class=\"title\">\\n\\t\\t\\t\\n\\t\\t\\t\\t<a href=\"/bbs/C_Chat/M.1576162673.A.8A3.html\">[20冬] 冬番各作品首播時間</a>\\n\\t\\t\\t\\n\\t\\t\\t</div>\\n\\t\\t\\t<div class=\"meta\">\\n\\t\\t\\t\\t<div class=\"author\">SaberTheBest</div>\\n\\t\\t\\t\\t<div class=\"article-menu\">\\n\\t\\t\\t\\t\\t\\n\\t\\t\\t\\t\\t<div class=\"trigger\">&#x22ef;</div>\\n\\t\\t\\t\\t\\t<div class=\"dropdown\">\\n\\t\\t\\t\\t\\t\\t<div class=\"item\"><a href=\"/bbs/C_Chat/search?q=thread%3A%5B20%E5%86%AC%5D&#43;%E5%86%AC%E7%95%AA%E5%90%84%E4%BD%9C%E5%93%81%E9%A6%96%E6%92%AD%E6%99%82%E9%96%93\">搜尋同標題文章</a></div>\\n\\t\\t\\t\\t\\t\\t\\n\\t\\t\\t\\t\\t\\t<div class=\"item\"><a href=\"/bbs/C_Chat/search?q=author%3ASaberTheBest\">搜尋看板內 SaberTheBest 的文章</a></div>\\n\\t\\t\\t\\t\\t\\t\\n\\t\\t\\t\\t\\t</div>\\n\\t\\t\\t\\t\\t\\n\\t\\t\\t\\t</div>\\n\\t\\t\\t\\t<div class=\"date\">12/12</div>\\n\\t\\t\\t\\t<div class=\"mark\">M</div>\\n\\t\\t\\t</div>\\n\\t\\t</div>\\n\\n            \\n                \\n        \\n        \\n\\t\\t<div class=\"r-ent\">\\n\\t\\t\\t<div class=\"nrec\"><span class=\"hl f2\">3</span></div>\\n\\t\\t\\t<div class=\"title\">\\n\\t\\t\\t\\n\\t\\t\\t\\t<a href=\"/bbs/C_Chat/M.1578315182.A.425.html\">[20冬] 2020年冬番 台灣觀賞管道整理（01/22）</a>\\n\\t\\t\\t\\n\\t\\t\\t</div>\\n\\t\\t\\t<div class=\"meta\">\\n\\t\\t\\t\\t<div class=\"author\">durantjosh</div>\\n\\t\\t\\t\\t<div class=\"article-menu\">\\n\\t\\t\\t\\t\\t\\n\\t\\t\\t\\t\\t<div class=\"trigger\">&#x22ef;</div>\\n\\t\\t\\t\\t\\t<div class=\"dropdown\">\\n\\t\\t\\t\\t\\t\\t<div class=\"item\"><a href=\"/bbs/C_Chat/search?q=thread%3A%5B20%E5%86%AC%5D&#43;2020%E5%B9%B4%E5%86%AC%E7%95%AA&#43;%E5%8F%B0%E7%81%A3%E8%A7%80%E8%B3%9E%E7%AE%A1%E9%81%93%E6%95%B4%E7%90%86%EF%BC%8801%2F22%EF%BC%89\">搜尋同標題文章</a></div>\\n\\t\\t\\t\\t\\t\\t\\n\\t\\t\\t\\t\\t\\t<div class=\"item\"><a href=\"/bbs/C_Chat/search?q=author%3Adurantjosh\">搜尋看板內 durantjosh 的文章</a></div>\\n\\t\\t\\t\\t\\t\\t\\n\\t\\t\\t\\t\\t</div>\\n\\t\\t\\t\\t\\t\\n\\t\\t\\t\\t</div>\\n\\t\\t\\t\\t<div class=\"date\"> 1/06</div>\\n\\t\\t\\t\\t<div class=\"mark\">M</div>\\n\\t\\t\\t</div>\\n\\t\\t</div>\\n\\n            \\n                \\n        \\n        \\n\\t\\t<div class=\"r-ent\">\\n\\t\\t\\t<div class=\"nrec\"><span class=\"hl f2\">8</span></div>\\n\\t\\t\\t<div class=\"title\">\\n\\t\\t\\t\\n\\t\\t\\t\\t<a href=\"/bbs/C_Chat/M.1581301641.A.134.html\">Fw: [板務] 試辦4-13放寬判定標準</a>\\n\\t\\t\\t\\n\\t\\t\\t</div>\\n\\t\\t\\t<div class=\"meta\">\\n\\t\\t\\t\\t<div class=\"author\">jschenlemn</div>\\n\\t\\t\\t\\t<div class=\"article-menu\">\\n\\t\\t\\t\\t\\t\\n\\t\\t\\t\\t\\t<div class=\"trigger\">&#x22ef;</div>\\n\\t\\t\\t\\t\\t<div class=\"dropdown\">\\n\\t\\t\\t\\t\\t\\t<div class=\"item\"><a href=\"/bbs/C_Chat/search?q=thread%3A%5B%E6%9D%BF%E5%8B%99%5D&#43;%E8%A9%A6%E8%BE%A64-13%E6%94%BE%E5%AF%AC%E5%88%A4%E5%AE%9A%E6%A8%99%E6%BA%96\">搜尋同標題文章</a></div>\\n\\t\\t\\t\\t\\t\\t\\n\\t\\t\\t\\t\\t\\t<div class=\"item\"><a href=\"/bbs/C_Chat/search?q=author%3Ajschenlemn\">搜尋看板內 jschenlemn 的文章</a></div>\\n\\t\\t\\t\\t\\t\\t\\n\\t\\t\\t\\t\\t</div>\\n\\t\\t\\t\\t\\t\\n\\t\\t\\t\\t</div>\\n\\t\\t\\t\\t<div class=\"date\"> 2/10</div>\\n\\t\\t\\t\\t<div class=\"mark\">M</div>\\n\\t\\t\\t</div>\\n\\t\\t</div>\\n\\n            \\n        \\n\\t</div>\\n\\n    \\n</div>\\n\\n\\t\\t\\n\\n<script>\\n  (function(i,s,o,g,r,a,m){i[\\'GoogleAnalyticsObject\\']=r;i[r]=i[r]||function(){\\n  (i[r].q=i[r].q||[]).push(arguments)},i[r].l=1*new Date();a=s.createElement(o),\\n  m=s.getElementsByTagName(o)[0];a.async=1;a.src=g;m.parentNode.insertBefore(a,m)\\n  })(window,document,\\'script\\',\\'https://www.google-analytics.com/analytics.js\\',\\'ga\\');\\n\\n  ga(\\'create\\', \\'UA-32365737-1\\', {\\n    cookieDomain: \\'ptt.cc\\',\\n    legacyCookieDomain: \\'ptt.cc\\'\\n  });\\n  ga(\\'send\\', \\'pageview\\');\\n</script>\\n\\n\\n\\t\\t\\n<script src=\"//ajax.googleapis.com/ajax/libs/jquery/2.1.1/jquery.min.js\"></script>\\n<script src=\"//images.ptt.cc/bbs/v2.27/bbs.js\"></script>\\n\\n    </body>\\n</html>\\n'"
      ]
     },
     "execution_count": 11,
     "metadata": {},
     "output_type": "execute_result"
    }
   ],
   "source": [
    "res = requests.get('https://www.ptt.cc/bbs/C_Chat/index.html')\n",
    "res.text"
   ]
  },
  {
   "cell_type": "code",
   "execution_count": 12,
   "metadata": {},
   "outputs": [
    {
     "data": {
      "text/plain": [
       "<!DOCTYPE html>\n",
       "\n",
       "<html>\n",
       "<head>\n",
       "<meta charset=\"utf-8\"/>\n",
       "<meta content=\"width=device-width, initial-scale=1\" name=\"viewport\"/>\n",
       "<title>看板 C_Chat 文章列表 - 批踢踢實業坊</title>\n",
       "<link href=\"//images.ptt.cc/bbs/v2.27/bbs-common.css\" rel=\"stylesheet\" type=\"text/css\"/>\n",
       "<link href=\"//images.ptt.cc/bbs/v2.27/bbs-base.css\" media=\"screen\" rel=\"stylesheet\" type=\"text/css\"/>\n",
       "<link href=\"//images.ptt.cc/bbs/v2.27/bbs-custom.css\" rel=\"stylesheet\" type=\"text/css\"/>\n",
       "<link href=\"//images.ptt.cc/bbs/v2.27/pushstream.css\" media=\"screen\" rel=\"stylesheet\" type=\"text/css\"/>\n",
       "<link href=\"//images.ptt.cc/bbs/v2.27/bbs-print.css\" media=\"print\" rel=\"stylesheet\" type=\"text/css\"/>\n",
       "</head>\n",
       "<body>\n",
       "<div id=\"topbar-container\">\n",
       "<div class=\"bbs-content\" id=\"topbar\">\n",
       "<a href=\"/bbs/\" id=\"logo\">批踢踢實業坊</a>\n",
       "<span>›</span>\n",
       "<a class=\"board\" href=\"/bbs/C_Chat/index.html\"><span class=\"board-label\">看板 </span>C_Chat</a>\n",
       "<a class=\"right small\" href=\"/about.html\">關於我們</a>\n",
       "<a class=\"right small\" href=\"/contact.html\">聯絡資訊</a>\n",
       "</div>\n",
       "</div>\n",
       "<div id=\"main-container\">\n",
       "<div id=\"action-bar-container\">\n",
       "<div class=\"action-bar\">\n",
       "<div class=\"btn-group btn-group-dir\">\n",
       "<a class=\"btn selected\" href=\"/bbs/C_Chat/index.html\">看板</a>\n",
       "<a class=\"btn\" href=\"/man/C_Chat/index.html\">精華區</a>\n",
       "</div>\n",
       "<div class=\"btn-group btn-group-paging\">\n",
       "<a class=\"btn wide\" href=\"/bbs/C_Chat/index1.html\">最舊</a>\n",
       "<a class=\"btn wide\" href=\"/bbs/C_Chat/index17542.html\">‹ 上頁</a>\n",
       "<a class=\"btn wide disabled\">下頁 ›</a>\n",
       "<a class=\"btn wide\" href=\"/bbs/C_Chat/index.html\">最新</a>\n",
       "</div>\n",
       "</div>\n",
       "</div>\n",
       "<div class=\"r-list-container action-bar-margin bbs-screen\">\n",
       "<div class=\"search-bar\">\n",
       "<form action=\"search\" id=\"search-bar\" type=\"get\">\n",
       "<input class=\"query\" name=\"q\" placeholder=\"搜尋文章⋯\" type=\"text\" value=\"\"/>\n",
       "</form>\n",
       "</div>\n",
       "<div class=\"r-ent\">\n",
       "<div class=\"nrec\"></div>\n",
       "<div class=\"title\">\n",
       "<a href=\"/bbs/C_Chat/M.1581409275.A.CAD.html\">Re: [寶可夢] 不要玩食物QQ</a>\n",
       "</div>\n",
       "<div class=\"meta\">\n",
       "<div class=\"author\">makinoyui</div>\n",
       "<div class=\"article-menu\">\n",
       "<div class=\"trigger\">⋯</div>\n",
       "<div class=\"dropdown\">\n",
       "<div class=\"item\"><a href=\"/bbs/C_Chat/search?q=thread%3A%5B%E5%AF%B6%E5%8F%AF%E5%A4%A2%5D+%E4%B8%8D%E8%A6%81%E7%8E%A9%E9%A3%9F%E7%89%A9QQ\">搜尋同標題文章</a></div>\n",
       "<div class=\"item\"><a href=\"/bbs/C_Chat/search?q=author%3Amakinoyui\">搜尋看板內 makinoyui 的文章</a></div>\n",
       "</div>\n",
       "</div>\n",
       "<div class=\"date\"> 2/11</div>\n",
       "<div class=\"mark\"></div>\n",
       "</div>\n",
       "</div>\n",
       "<div class=\"r-ent\">\n",
       "<div class=\"nrec\"><span class=\"hl f2\">2</span></div>\n",
       "<div class=\"title\">\n",
       "<a href=\"/bbs/C_Chat/M.1581409294.A.40F.html\">Re: [閒聊] 美國隊長 單獨面對薩諾斯大軍時在想啥？</a>\n",
       "</div>\n",
       "<div class=\"meta\">\n",
       "<div class=\"author\">zxcz1471</div>\n",
       "<div class=\"article-menu\">\n",
       "<div class=\"trigger\">⋯</div>\n",
       "<div class=\"dropdown\">\n",
       "<div class=\"item\"><a href=\"/bbs/C_Chat/search?q=thread%3A%5B%E9%96%92%E8%81%8A%5D+%E7%BE%8E%E5%9C%8B%E9%9A%8A%E9%95%B7+%E5%96%AE%E7%8D%A8%E9%9D%A2%E5%B0%8D%E8%96%A9%E8%AB%BE%E6%96%AF%E5%A4%A7%E8%BB%8D%E6%99%82%E5%9C%A8%E6%83%B3%E5%95%A5%EF%BC%9F\">搜尋同標題文章</a></div>\n",
       "<div class=\"item\"><a href=\"/bbs/C_Chat/search?q=author%3Azxcz1471\">搜尋看板內 zxcz1471 的文章</a></div>\n",
       "</div>\n",
       "</div>\n",
       "<div class=\"date\"> 2/11</div>\n",
       "<div class=\"mark\"></div>\n",
       "</div>\n",
       "</div>\n",
       "<div class=\"r-ent\">\n",
       "<div class=\"nrec\"><span class=\"hl f2\">2</span></div>\n",
       "<div class=\"title\">\n",
       "<a href=\"/bbs/C_Chat/M.1581410098.A.766.html\">Re: [閒聊] JOJO原畫展in 長崎&amp;金澤</a>\n",
       "</div>\n",
       "<div class=\"meta\">\n",
       "<div class=\"author\">joshua0606</div>\n",
       "<div class=\"article-menu\">\n",
       "<div class=\"trigger\">⋯</div>\n",
       "<div class=\"dropdown\">\n",
       "<div class=\"item\"><a href=\"/bbs/C_Chat/search?q=thread%3A%5B%E9%96%92%E8%81%8A%5D+JOJO%E5%8E%9F%E7%95%AB%E5%B1%95in+%E9%95%B7%E5%B4%8E%26%E9%87%91%E6%BE%A4\">搜尋同標題文章</a></div>\n",
       "<div class=\"item\"><a href=\"/bbs/C_Chat/search?q=author%3Ajoshua0606\">搜尋看板內 joshua0606 的文章</a></div>\n",
       "</div>\n",
       "</div>\n",
       "<div class=\"date\"> 2/11</div>\n",
       "<div class=\"mark\"></div>\n",
       "</div>\n",
       "</div>\n",
       "<div class=\"r-ent\">\n",
       "<div class=\"nrec\"><span class=\"hl f2\">8</span></div>\n",
       "<div class=\"title\">\n",
       "<a href=\"/bbs/C_Chat/M.1581410105.A.11D.html\">[閒聊] 魯路修的三部劇場版跟tv有差嗎？</a>\n",
       "</div>\n",
       "<div class=\"meta\">\n",
       "<div class=\"author\">a125g</div>\n",
       "<div class=\"article-menu\">\n",
       "<div class=\"trigger\">⋯</div>\n",
       "<div class=\"dropdown\">\n",
       "<div class=\"item\"><a href=\"/bbs/C_Chat/search?q=thread%3A%5B%E9%96%92%E8%81%8A%5D+%E9%AD%AF%E8%B7%AF%E4%BF%AE%E7%9A%84%E4%B8%89%E9%83%A8%E5%8A%87%E5%A0%B4%E7%89%88%E8%B7%9Ftv%E6%9C%89%E5%B7%AE%E5%97%8E%EF%BC%9F\">搜尋同標題文章</a></div>\n",
       "<div class=\"item\"><a href=\"/bbs/C_Chat/search?q=author%3Aa125g\">搜尋看板內 a125g 的文章</a></div>\n",
       "</div>\n",
       "</div>\n",
       "<div class=\"date\"> 2/11</div>\n",
       "<div class=\"mark\"></div>\n",
       "</div>\n",
       "</div>\n",
       "<div class=\"r-ent\">\n",
       "<div class=\"nrec\"><span class=\"hl f3\">12</span></div>\n",
       "<div class=\"title\">\n",
       "<a href=\"/bbs/C_Chat/M.1581410271.A.9A2.html\">[閒聊] 我英如何評價? 回顧幾個作品的258話</a>\n",
       "</div>\n",
       "<div class=\"meta\">\n",
       "<div class=\"author\">NukAnah</div>\n",
       "<div class=\"article-menu\">\n",
       "<div class=\"trigger\">⋯</div>\n",
       "<div class=\"dropdown\">\n",
       "<div class=\"item\"><a href=\"/bbs/C_Chat/search?q=thread%3A%5B%E9%96%92%E8%81%8A%5D+%E6%88%91%E8%8B%B1%E5%A6%82%E4%BD%95%E8%A9%95%E5%83%B9%3F+%E5%9B%9E%E9%A1%A7%E5%B9%BE%E5%80%8B%E4%BD%9C%E5%93%81%E7%9A%84258%E8%A9%B1\">搜尋同標題文章</a></div>\n",
       "<div class=\"item\"><a href=\"/bbs/C_Chat/search?q=author%3ANukAnah\">搜尋看板內 NukAnah 的文章</a></div>\n",
       "</div>\n",
       "</div>\n",
       "<div class=\"date\"> 2/11</div>\n",
       "<div class=\"mark\"></div>\n",
       "</div>\n",
       "</div>\n",
       "<div class=\"r-ent\">\n",
       "<div class=\"nrec\"><span class=\"hl f2\">2</span></div>\n",
       "<div class=\"title\">\n",
       "<a href=\"/bbs/C_Chat/M.1581410620.A.8AE.html\">[20冬] 成群結伴!西頓學園  06 抖M熊貓</a>\n",
       "</div>\n",
       "<div class=\"meta\">\n",
       "<div class=\"author\">lycs0908</div>\n",
       "<div class=\"article-menu\">\n",
       "<div class=\"trigger\">⋯</div>\n",
       "<div class=\"dropdown\">\n",
       "<div class=\"item\"><a href=\"/bbs/C_Chat/search?q=thread%3A%5B20%E5%86%AC%5D+%E6%88%90%E7%BE%A4%E7%B5%90%E4%BC%B4%21%E8%A5%BF%E9%A0%93%E5%AD%B8%E5%9C%92++06+%E6%8A%96M%E7%86%8A%E8%B2%93\">搜尋同標題文章</a></div>\n",
       "<div class=\"item\"><a href=\"/bbs/C_Chat/search?q=author%3Alycs0908\">搜尋看板內 lycs0908 的文章</a></div>\n",
       "</div>\n",
       "</div>\n",
       "<div class=\"date\"> 2/11</div>\n",
       "<div class=\"mark\"></div>\n",
       "</div>\n",
       "</div>\n",
       "<div class=\"r-ent\">\n",
       "<div class=\"nrec\"><span class=\"hl f2\">1</span></div>\n",
       "<div class=\"title\">\n",
       "<a href=\"/bbs/C_Chat/M.1581410881.A.410.html\">Fw: [光美] Healin'Good♥プリキュア 02</a>\n",
       "</div>\n",
       "<div class=\"meta\">\n",
       "<div class=\"author\">CureMarine</div>\n",
       "<div class=\"article-menu\">\n",
       "<div class=\"trigger\">⋯</div>\n",
       "<div class=\"dropdown\">\n",
       "<div class=\"item\"><a href=\"/bbs/C_Chat/search?q=thread%3A%5B%E5%85%89%E7%BE%8E%5D+Healin%27Good%E2%99%A5%E3%83%97%E3%83%AA%E3%82%AD%E3%83%A5%E3%82%A2+02\">搜尋同標題文章</a></div>\n",
       "<div class=\"item\"><a href=\"/bbs/C_Chat/search?q=author%3ACureMarine\">搜尋看板內 CureMarine 的文章</a></div>\n",
       "</div>\n",
       "</div>\n",
       "<div class=\"date\"> 2/11</div>\n",
       "<div class=\"mark\"></div>\n",
       "</div>\n",
       "</div>\n",
       "<div class=\"r-list-sep\"></div>\n",
       "<div class=\"r-ent\">\n",
       "<div class=\"nrec\"><span class=\"hl f3\">21</span></div>\n",
       "<div class=\"title\">\n",
       "<a href=\"/bbs/C_Chat/M.1568395416.A.062.html\">[公告] C_Chat板板規v.16.3.0+板務建議+好文補M </a>\n",
       "</div>\n",
       "<div class=\"meta\">\n",
       "<div class=\"author\">jschenlemn</div>\n",
       "<div class=\"article-menu\">\n",
       "<div class=\"trigger\">⋯</div>\n",
       "<div class=\"dropdown\">\n",
       "<div class=\"item\"><a href=\"/bbs/C_Chat/search?q=thread%3A%5B%E5%85%AC%E5%91%8A%5D+C_Chat%E6%9D%BF%E6%9D%BF%E8%A6%8Fv.16.3.0%2B%E6%9D%BF%E5%8B%99%E5%BB%BA%E8%AD%B0%2B%E5%A5%BD%E6%96%87%E8%A3%9CM+\">搜尋同標題文章</a></div>\n",
       "<div class=\"item\"><a href=\"/bbs/C_Chat/search?q=author%3Ajschenlemn\">搜尋看板內 jschenlemn 的文章</a></div>\n",
       "</div>\n",
       "</div>\n",
       "<div class=\"date\"> 9/14</div>\n",
       "<div class=\"mark\"></div>\n",
       "</div>\n",
       "</div>\n",
       "<div class=\"r-ent\">\n",
       "<div class=\"nrec\"><span class=\"hl f1\">爆</span></div>\n",
       "<div class=\"title\">\n",
       "<a href=\"/bbs/C_Chat/M.1576462934.A.38C.html\">[公告] 看板活動&amp; 臨時板規與公告彙整&amp; 閒聊區 </a>\n",
       "</div>\n",
       "<div class=\"meta\">\n",
       "<div class=\"author\">jschenlemn</div>\n",
       "<div class=\"article-menu\">\n",
       "<div class=\"trigger\">⋯</div>\n",
       "<div class=\"dropdown\">\n",
       "<div class=\"item\"><a href=\"/bbs/C_Chat/search?q=thread%3A%5B%E5%85%AC%E5%91%8A%5D+%E7%9C%8B%E6%9D%BF%E6%B4%BB%E5%8B%95%26+%E8%87%A8%E6%99%82%E6%9D%BF%E8%A6%8F%E8%88%87%E5%85%AC%E5%91%8A%E5%BD%99%E6%95%B4%26+%E9%96%92%E8%81%8A%E5%8D%80+\">搜尋同標題文章</a></div>\n",
       "<div class=\"item\"><a href=\"/bbs/C_Chat/search?q=author%3Ajschenlemn\">搜尋看板內 jschenlemn 的文章</a></div>\n",
       "</div>\n",
       "</div>\n",
       "<div class=\"date\">12/16</div>\n",
       "<div class=\"mark\">M</div>\n",
       "</div>\n",
       "</div>\n",
       "<div class=\"r-ent\">\n",
       "<div class=\"nrec\"><span class=\"hl f3\">14</span></div>\n",
       "<div class=\"title\">\n",
       "<a href=\"/bbs/C_Chat/M.1576162673.A.8A3.html\">[20冬] 冬番各作品首播時間</a>\n",
       "</div>\n",
       "<div class=\"meta\">\n",
       "<div class=\"author\">SaberTheBest</div>\n",
       "<div class=\"article-menu\">\n",
       "<div class=\"trigger\">⋯</div>\n",
       "<div class=\"dropdown\">\n",
       "<div class=\"item\"><a href=\"/bbs/C_Chat/search?q=thread%3A%5B20%E5%86%AC%5D+%E5%86%AC%E7%95%AA%E5%90%84%E4%BD%9C%E5%93%81%E9%A6%96%E6%92%AD%E6%99%82%E9%96%93\">搜尋同標題文章</a></div>\n",
       "<div class=\"item\"><a href=\"/bbs/C_Chat/search?q=author%3ASaberTheBest\">搜尋看板內 SaberTheBest 的文章</a></div>\n",
       "</div>\n",
       "</div>\n",
       "<div class=\"date\">12/12</div>\n",
       "<div class=\"mark\">M</div>\n",
       "</div>\n",
       "</div>\n",
       "<div class=\"r-ent\">\n",
       "<div class=\"nrec\"><span class=\"hl f2\">3</span></div>\n",
       "<div class=\"title\">\n",
       "<a href=\"/bbs/C_Chat/M.1578315182.A.425.html\">[20冬] 2020年冬番 台灣觀賞管道整理（01/22）</a>\n",
       "</div>\n",
       "<div class=\"meta\">\n",
       "<div class=\"author\">durantjosh</div>\n",
       "<div class=\"article-menu\">\n",
       "<div class=\"trigger\">⋯</div>\n",
       "<div class=\"dropdown\">\n",
       "<div class=\"item\"><a href=\"/bbs/C_Chat/search?q=thread%3A%5B20%E5%86%AC%5D+2020%E5%B9%B4%E5%86%AC%E7%95%AA+%E5%8F%B0%E7%81%A3%E8%A7%80%E8%B3%9E%E7%AE%A1%E9%81%93%E6%95%B4%E7%90%86%EF%BC%8801%2F22%EF%BC%89\">搜尋同標題文章</a></div>\n",
       "<div class=\"item\"><a href=\"/bbs/C_Chat/search?q=author%3Adurantjosh\">搜尋看板內 durantjosh 的文章</a></div>\n",
       "</div>\n",
       "</div>\n",
       "<div class=\"date\"> 1/06</div>\n",
       "<div class=\"mark\">M</div>\n",
       "</div>\n",
       "</div>\n",
       "<div class=\"r-ent\">\n",
       "<div class=\"nrec\"><span class=\"hl f2\">8</span></div>\n",
       "<div class=\"title\">\n",
       "<a href=\"/bbs/C_Chat/M.1581301641.A.134.html\">Fw: [板務] 試辦4-13放寬判定標準</a>\n",
       "</div>\n",
       "<div class=\"meta\">\n",
       "<div class=\"author\">jschenlemn</div>\n",
       "<div class=\"article-menu\">\n",
       "<div class=\"trigger\">⋯</div>\n",
       "<div class=\"dropdown\">\n",
       "<div class=\"item\"><a href=\"/bbs/C_Chat/search?q=thread%3A%5B%E6%9D%BF%E5%8B%99%5D+%E8%A9%A6%E8%BE%A64-13%E6%94%BE%E5%AF%AC%E5%88%A4%E5%AE%9A%E6%A8%99%E6%BA%96\">搜尋同標題文章</a></div>\n",
       "<div class=\"item\"><a href=\"/bbs/C_Chat/search?q=author%3Ajschenlemn\">搜尋看板內 jschenlemn 的文章</a></div>\n",
       "</div>\n",
       "</div>\n",
       "<div class=\"date\"> 2/10</div>\n",
       "<div class=\"mark\">M</div>\n",
       "</div>\n",
       "</div>\n",
       "</div>\n",
       "</div>\n",
       "<script>\n",
       "  (function(i,s,o,g,r,a,m){i['GoogleAnalyticsObject']=r;i[r]=i[r]||function(){\n",
       "  (i[r].q=i[r].q||[]).push(arguments)},i[r].l=1*new Date();a=s.createElement(o),\n",
       "  m=s.getElementsByTagName(o)[0];a.async=1;a.src=g;m.parentNode.insertBefore(a,m)\n",
       "  })(window,document,'script','https://www.google-analytics.com/analytics.js','ga');\n",
       "\n",
       "  ga('create', 'UA-32365737-1', {\n",
       "    cookieDomain: 'ptt.cc',\n",
       "    legacyCookieDomain: 'ptt.cc'\n",
       "  });\n",
       "  ga('send', 'pageview');\n",
       "</script>\n",
       "<script src=\"//ajax.googleapis.com/ajax/libs/jquery/2.1.1/jquery.min.js\"></script>\n",
       "<script src=\"//images.ptt.cc/bbs/v2.27/bbs.js\"></script>\n",
       "</body>\n",
       "</html>"
      ]
     },
     "execution_count": 12,
     "metadata": {},
     "output_type": "execute_result"
    }
   ],
   "source": [
    "soup = BeautifulSoup(res.text,'html.parser')\n",
    "soup"
   ]
  },
  {
   "cell_type": "code",
   "execution_count": 13,
   "metadata": {},
   "outputs": [
    {
     "data": {
      "text/plain": [
       "[<a href=\"/bbs/C_Chat/M.1581409275.A.CAD.html\">Re: [寶可夢] 不要玩食物QQ</a>,\n",
       " <a href=\"/bbs/C_Chat/M.1581409294.A.40F.html\">Re: [閒聊] 美國隊長 單獨面對薩諾斯大軍時在想啥？</a>,\n",
       " <a href=\"/bbs/C_Chat/M.1581410098.A.766.html\">Re: [閒聊] JOJO原畫展in 長崎&amp;金澤</a>,\n",
       " <a href=\"/bbs/C_Chat/M.1581410105.A.11D.html\">[閒聊] 魯路修的三部劇場版跟tv有差嗎？</a>,\n",
       " <a href=\"/bbs/C_Chat/M.1581410271.A.9A2.html\">[閒聊] 我英如何評價? 回顧幾個作品的258話</a>,\n",
       " <a href=\"/bbs/C_Chat/M.1581410620.A.8AE.html\">[20冬] 成群結伴!西頓學園  06 抖M熊貓</a>,\n",
       " <a href=\"/bbs/C_Chat/M.1581410881.A.410.html\">Fw: [光美] Healin'Good♥プリキュア 02</a>,\n",
       " <a href=\"/bbs/C_Chat/M.1568395416.A.062.html\">[公告] C_Chat板板規v.16.3.0+板務建議+好文補M </a>,\n",
       " <a href=\"/bbs/C_Chat/M.1576462934.A.38C.html\">[公告] 看板活動&amp; 臨時板規與公告彙整&amp; 閒聊區 </a>,\n",
       " <a href=\"/bbs/C_Chat/M.1576162673.A.8A3.html\">[20冬] 冬番各作品首播時間</a>,\n",
       " <a href=\"/bbs/C_Chat/M.1578315182.A.425.html\">[20冬] 2020年冬番 台灣觀賞管道整理（01/22）</a>,\n",
       " <a href=\"/bbs/C_Chat/M.1581301641.A.134.html\">Fw: [板務] 試辦4-13放寬判定標準</a>]"
      ]
     },
     "execution_count": 13,
     "metadata": {},
     "output_type": "execute_result"
    }
   ],
   "source": [
    "tag_name = 'div.title a'\n",
    "articles = soup.select(tag_name)\n",
    "articles"
   ]
  },
  {
   "cell_type": "code",
   "execution_count": 15,
   "metadata": {},
   "outputs": [
    {
     "name": "stdout",
     "output_type": "stream",
     "text": [
      "/bbs/C_Chat/M.1581409275.A.CAD.html Re: [寶可夢] 不要玩食物QQ\n",
      "/bbs/C_Chat/M.1581409294.A.40F.html Re: [閒聊] 美國隊長 單獨面對薩諾斯大軍時在想啥？\n",
      "/bbs/C_Chat/M.1581410098.A.766.html Re: [閒聊] JOJO原畫展in 長崎&金澤\n",
      "/bbs/C_Chat/M.1581410105.A.11D.html [閒聊] 魯路修的三部劇場版跟tv有差嗎？\n",
      "/bbs/C_Chat/M.1581410271.A.9A2.html [閒聊] 我英如何評價? 回顧幾個作品的258話\n",
      "/bbs/C_Chat/M.1581410620.A.8AE.html [20冬] 成群結伴!西頓學園  06 抖M熊貓\n",
      "/bbs/C_Chat/M.1581410881.A.410.html Fw: [光美] Healin'Good♥プリキュア 02\n",
      "/bbs/C_Chat/M.1568395416.A.062.html [公告] C_Chat板板規v.16.3.0+板務建議+好文補M \n",
      "/bbs/C_Chat/M.1576462934.A.38C.html [公告] 看板活動& 臨時板規與公告彙整& 閒聊區 \n",
      "/bbs/C_Chat/M.1576162673.A.8A3.html [20冬] 冬番各作品首播時間\n",
      "/bbs/C_Chat/M.1578315182.A.425.html [20冬] 2020年冬番 台灣觀賞管道整理（01/22）\n",
      "/bbs/C_Chat/M.1581301641.A.134.html Fw: [板務] 試辦4-13放寬判定標準\n"
     ]
    }
   ],
   "source": [
    "for a in articles:\n",
    "    print (a['href'], a.text)"
   ]
  },
  {
   "cell_type": "code",
   "execution_count": 16,
   "metadata": {},
   "outputs": [
    {
     "data": {
      "text/plain": [
       "[<a class=\"btn wide\" href=\"/bbs/C_Chat/index1.html\">最舊</a>,\n",
       " <a class=\"btn wide\" href=\"/bbs/C_Chat/index17542.html\">‹ 上頁</a>,\n",
       " <a class=\"btn wide disabled\">下頁 ›</a>,\n",
       " <a class=\"btn wide\" href=\"/bbs/C_Chat/index.html\">最新</a>]"
      ]
     },
     "execution_count": 16,
     "metadata": {},
     "output_type": "execute_result"
    }
   ],
   "source": [
    "#抓取多頁的內容\n",
    "paging = soup.select('div.btn-group-paging a')\n",
    "paging"
   ]
  },
  {
   "cell_type": "code",
   "execution_count": 17,
   "metadata": {},
   "outputs": [
    {
     "data": {
      "text/plain": [
       "<a class=\"btn wide\" href=\"/bbs/C_Chat/index17542.html\">‹ 上頁</a>"
      ]
     },
     "execution_count": 17,
     "metadata": {},
     "output_type": "execute_result"
    }
   ],
   "source": [
    "paging[1]#上一頁連結"
   ]
  },
  {
   "cell_type": "code",
   "execution_count": 23,
   "metadata": {},
   "outputs": [
    {
     "data": {
      "text/plain": [
       "<Response [200]>"
      ]
     },
     "execution_count": 23,
     "metadata": {},
     "output_type": "execute_result"
    }
   ],
   "source": [
    "page2_url = paging[1]['href']#獲取上一頁連結\n",
    "res2 = requests.get('https://www.ptt.cc'+page2_url)\n",
    "res2"
   ]
  },
  {
   "cell_type": "code",
   "execution_count": null,
   "metadata": {},
   "outputs": [],
   "source": []
  }
 ],
 "metadata": {
  "kernelspec": {
   "display_name": "Python 3",
   "language": "python",
   "name": "python3"
  },
  "language_info": {
   "codemirror_mode": {
    "name": "ipython",
    "version": 3
   },
   "file_extension": ".py",
   "mimetype": "text/x-python",
   "name": "python",
   "nbconvert_exporter": "python",
   "pygments_lexer": "ipython3",
   "version": "3.7.1"
  }
 },
 "nbformat": 4,
 "nbformat_minor": 2
}
